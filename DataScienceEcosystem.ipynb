{
 "cells": [
  {
   "cell_type": "markdown",
   "id": "0995aa7b",
   "metadata": {},
   "source": [
    "# Data Science Tools and Ecosystem"
   ]
  },
  {
   "cell_type": "markdown",
   "id": "98cf8604",
   "metadata": {},
   "source": [
    "This notebook contains a summary of the data science tools and ecosystems."
   ]
  },
  {
   "cell_type": "markdown",
   "id": "7b3c8ac8",
   "metadata": {},
   "source": [
    "### **Objectives.**\n",
    "* List of commonly used languages in Data Sceince\n",
    "* List of commonly used libraries in Data Science\n",
    "* List of open source tools for development enviornments\n",
    "* Performing simple arithmetic operations "
   ]
  },
  {
   "cell_type": "markdown",
   "id": "1aab2232",
   "metadata": {},
   "source": [
    "Some of the most common languages used in data science include, \n",
    "1. Python\n",
    "2. R\n",
    "3. SQL\n",
    "4. JAVA\n",
    "5. C++\n",
    "6. Scala\n",
    "7. Julia"
   ]
  },
  {
   "cell_type": "markdown",
   "id": "501393b5",
   "metadata": {},
   "source": [
    "The following are some of the most often used libraries in data science: \n",
    "1. Pandas\n",
    "2. NumPy\n",
    "3. Scipy\n",
    "4. Matplotlib\n",
    "5. Tensorflow\n",
    "6. PyTorch"
   ]
  },
  {
   "cell_type": "markdown",
   "id": "d48a8ada",
   "metadata": {},
   "source": [
    "The following table indicates the open source development environments used in Data Science\n",
    "\n",
    "| DataScience Tools |\n",
    "| -------------|\n",
    "| JupyterLab | \n",
    "| RStudio| \n",
    "| Apache Hadoop |\n",
    "| TensorFlow |"
   ]
  },
  {
   "cell_type": "markdown",
   "id": "3eca9e67",
   "metadata": {},
   "source": [
    "### The evaluation of mathematical expressions in Python is demonstrated in the examples below."
   ]
  },
  {
   "cell_type": "markdown",
   "id": "4e2fcc29",
   "metadata": {},
   "source": [
    "The following basic arithmetic formula demonstrates integer multiplication followed by addition."
   ]
  },
  {
   "cell_type": "code",
   "execution_count": 2,
   "id": "20669327",
   "metadata": {},
   "outputs": [
    {
     "data": {
      "text/plain": [
       "17"
      ]
     },
     "execution_count": 2,
     "metadata": {},
     "output_type": "execute_result"
    }
   ],
   "source": [
    "(3*4)+5"
   ]
  },
  {
   "cell_type": "markdown",
   "id": "fc3d0a70",
   "metadata": {},
   "source": [
    "The following mathematical expression is used to covert 200 minutes into hours by dividing it by 60. "
   ]
  },
  {
   "cell_type": "code",
   "execution_count": 3,
   "id": "f5ff4bae",
   "metadata": {},
   "outputs": [
    {
     "data": {
      "text/plain": [
       "3.3333333333333335"
      ]
     },
     "execution_count": 3,
     "metadata": {},
     "output_type": "execute_result"
    }
   ],
   "source": [
    "200/60"
   ]
  },
  {
   "cell_type": "markdown",
   "id": "235ee40e",
   "metadata": {},
   "source": [
    "## Author\n",
    "Bhuvaneshwari S Baranwal"
   ]
  }
 ],
 "metadata": {
  "kernelspec": {
   "display_name": "Python 3 (ipykernel)",
   "language": "python",
   "name": "python3"
  },
  "language_info": {
   "codemirror_mode": {
    "name": "ipython",
    "version": 3
   },
   "file_extension": ".py",
   "mimetype": "text/x-python",
   "name": "python",
   "nbconvert_exporter": "python",
   "pygments_lexer": "ipython3",
   "version": "3.10.11"
  }
 },
 "nbformat": 4,
 "nbformat_minor": 5
}
